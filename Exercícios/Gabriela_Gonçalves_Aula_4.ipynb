{
  "nbformat": 4,
  "nbformat_minor": 0,
  "metadata": {
    "colab": {
      "name": "Gabriela_Gonçalves_Aula_4.ipynb",
      "provenance": [],
      "authorship_tag": "ABX9TyNLkJqjrhTmbc6oFM6eDZC4",
      "include_colab_link": true
    },
    "kernelspec": {
      "name": "python3",
      "display_name": "Python 3"
    }
  },
  "cells": [
    {
      "cell_type": "markdown",
      "metadata": {
        "id": "view-in-github",
        "colab_type": "text"
      },
      "source": [
        "<a href=\"https://colab.research.google.com/github/gabi-mendes/Python-UERJ-2020.1/blob/master/Exerc%C3%ADcios/Gabriela_Gon%C3%A7alves_Aula_4.ipynb\" target=\"_parent\"><img src=\"https://colab.research.google.com/assets/colab-badge.svg\" alt=\"Open In Colab\"/></a>"
      ]
    },
    {
      "cell_type": "markdown",
      "metadata": {
        "id": "6JbhAXQcrW82"
      },
      "source": [
        ""
      ]
    },
    {
      "cell_type": "code",
      "metadata": {
        "id": "yviwllDyz4gD",
        "outputId": "d40c4398-76bc-4203-fa52-3bc17b2deaf1",
        "colab": {
          "base_uri": "https://localhost:8080/",
          "height": 153
        }
      },
      "source": [
        "def print_spam():\n",
        "  print(\"spam\")\n",
        "\n",
        "def print_twice(x):\n",
        "  print(x)\n",
        "  print(x)\n",
        "\n",
        "def do_twice(func, x):\n",
        "  func(x)\n",
        "  func(x)\n",
        "\n",
        "def do_four(func, x):\n",
        "  do_twice(func, x)\n",
        "  do_twice(func, x)\n",
        "\n",
        "do_four(print_twice, \"Python\")"
      ],
      "execution_count": 15,
      "outputs": [
        {
          "output_type": "stream",
          "text": [
            "Python\n",
            "Python\n",
            "Python\n",
            "Python\n",
            "Python\n",
            "Python\n",
            "Python\n",
            "Python\n"
          ],
          "name": "stdout"
        }
      ]
    }
  ]
}