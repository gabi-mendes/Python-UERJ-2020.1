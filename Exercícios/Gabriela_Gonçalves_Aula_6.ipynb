{
  "nbformat": 4,
  "nbformat_minor": 0,
  "metadata": {
    "colab": {
      "name": "Gabriela_Gonçalves_Aula_6.ipynb",
      "provenance": [],
      "include_colab_link": true
    },
    "kernelspec": {
      "name": "python3",
      "display_name": "Python 3"
    }
  },
  "cells": [
    {
      "cell_type": "markdown",
      "metadata": {
        "id": "view-in-github",
        "colab_type": "text"
      },
      "source": [
        "<a href=\"https://colab.research.google.com/github/gabi-mendes/Python-UERJ-2020.1/blob/master/Exerc%C3%ADcios/Gabriela_Gon%C3%A7alves_Aula_6.ipynb\" target=\"_parent\"><img src=\"https://colab.research.google.com/assets/colab-badge.svg\" alt=\"Open In Colab\"/></a>"
      ]
    },
    {
      "cell_type": "markdown",
      "metadata": {
        "id": "xfi0ibbvnS_7"
      },
      "source": [
        "# Exercício 1\n",
        "\n",
        "Considere o seguinte script:\n"
      ]
    },
    {
      "cell_type": "code",
      "metadata": {
        "id": "D3wtN0i2nLps",
        "outputId": "1a98a704-48a6-48a8-e009-6791871b4e6a",
        "colab": {
          "base_uri": "https://localhost:8080/",
          "height": 176
        }
      },
      "source": [
        "!pip3 install ColabTurtle"
      ],
      "execution_count": null,
      "outputs": [
        {
          "output_type": "stream",
          "text": [
            "Collecting ColabTurtle\n",
            "  Downloading https://files.pythonhosted.org/packages/49/01/6da7091c2c6c917cce99c000b89acb6aa27b66ef6eafc0c0ccf59b98694f/ColabTurtle-2.0.0.tar.gz\n",
            "Building wheels for collected packages: ColabTurtle\n",
            "  Building wheel for ColabTurtle (setup.py) ... \u001b[?25l\u001b[?25hdone\n",
            "  Created wheel for ColabTurtle: filename=ColabTurtle-2.0.0-cp36-none-any.whl size=4032 sha256=ea01ecb2c780c2d66b1e4e2a519e91c5fa7e5dd2f5731c140e100bfd9b0f0540\n",
            "  Stored in directory: /root/.cache/pip/wheels/a8/29/ec/ad346f0042ae467cc74f4378916348faf975b07890651dcae7\n",
            "Successfully built ColabTurtle\n",
            "Installing collected packages: ColabTurtle\n",
            "Successfully installed ColabTurtle-2.0.0\n"
          ],
          "name": "stdout"
        }
      ]
    },
    {
      "cell_type": "code",
      "metadata": {
        "id": "nh9zQt_Hnxd8",
        "outputId": "6b48bf6e-0958-4eba-ca9d-8681d0a34651",
        "colab": {
          "base_uri": "https://localhost:8080/",
          "height": 521
        }
      },
      "source": [
        "import ColabTurtle.Turtle as tess\n",
        "\n",
        "def draw_bar(t, height):\n",
        "    \"\"\" Get turtle t to draw one bar, of height. \"\"\"\n",
        "    \n",
        "    t.forward(height)\n",
        "    t.right(90)\n",
        "    t.forward(40)\n",
        "    t.right(90)\n",
        "    t.forward(height)\n",
        "    t.left(90)\n",
        "    t.forward(10)\n",
        "    t.left(90)\n",
        "\n",
        "tess.initializeTurtle()   # inicialização\n",
        "tess.speed(10)\n",
        "\n",
        "tess.color(\"blue\")\n",
        "tess.bgcolor(\"white\")\n",
        "tess.penup() #levantar a caneta\n",
        "tess.goto(10,450) #mudar posicao de inicio \n",
        "tess.pendown() #abaixar a caneta\n",
        "\n",
        "xs = [48, 117, 200, 240, 160, 260, 220]\n",
        "\n",
        "for a in xs:\n",
        "    draw_bar(tess, a)"
      ],
      "execution_count": null,
      "outputs": [
        {
          "output_type": "display_data",
          "data": {
            "text/html": [
              "\n",
              "      <svg width=\"800\" height=\"500\">\n",
              "        <rect width=\"100%\" height=\"100%\" fill=\"white\"/>\n",
              "        <line x1=\"10\" y1=\"450\" x2=\"9.999999999999991\" y2=\"402.0\" stroke-linecap=\"round\" style=\"stroke:blue;stroke-width:4\"/><line x1=\"9.999999999999991\" y1=\"402.0\" x2=\"49.99999999999999\" y2=\"402.0\" stroke-linecap=\"round\" style=\"stroke:blue;stroke-width:4\"/><line x1=\"49.99999999999999\" y1=\"402.0\" x2=\"49.99999999999999\" y2=\"450.0\" stroke-linecap=\"round\" style=\"stroke:blue;stroke-width:4\"/><line x1=\"49.99999999999999\" y1=\"450.0\" x2=\"59.99999999999999\" y2=\"450.0\" stroke-linecap=\"round\" style=\"stroke:blue;stroke-width:4\"/><line x1=\"59.99999999999999\" y1=\"450.0\" x2=\"59.99999999999997\" y2=\"333.0\" stroke-linecap=\"round\" style=\"stroke:blue;stroke-width:4\"/><line x1=\"59.99999999999997\" y1=\"333.0\" x2=\"99.99999999999997\" y2=\"333.0\" stroke-linecap=\"round\" style=\"stroke:blue;stroke-width:4\"/><line x1=\"99.99999999999997\" y1=\"333.0\" x2=\"99.99999999999999\" y2=\"450.0\" stroke-linecap=\"round\" style=\"stroke:blue;stroke-width:4\"/><line x1=\"99.99999999999999\" y1=\"450.0\" x2=\"109.99999999999999\" y2=\"450.0\" stroke-linecap=\"round\" style=\"stroke:blue;stroke-width:4\"/><line x1=\"109.99999999999999\" y1=\"450.0\" x2=\"109.99999999999994\" y2=\"250.0\" stroke-linecap=\"round\" style=\"stroke:blue;stroke-width:4\"/><line x1=\"109.99999999999994\" y1=\"250.0\" x2=\"149.99999999999994\" y2=\"250.0\" stroke-linecap=\"round\" style=\"stroke:blue;stroke-width:4\"/><line x1=\"149.99999999999994\" y1=\"250.0\" x2=\"149.99999999999994\" y2=\"450.0\" stroke-linecap=\"round\" style=\"stroke:blue;stroke-width:4\"/><line x1=\"149.99999999999994\" y1=\"450.0\" x2=\"159.99999999999994\" y2=\"450.0\" stroke-linecap=\"round\" style=\"stroke:blue;stroke-width:4\"/><line x1=\"159.99999999999994\" y1=\"450.0\" x2=\"159.9999999999999\" y2=\"210.0\" stroke-linecap=\"round\" style=\"stroke:blue;stroke-width:4\"/><line x1=\"159.9999999999999\" y1=\"210.0\" x2=\"199.9999999999999\" y2=\"210.0\" stroke-linecap=\"round\" style=\"stroke:blue;stroke-width:4\"/><line x1=\"199.9999999999999\" y1=\"210.0\" x2=\"199.99999999999991\" y2=\"450.0\" stroke-linecap=\"round\" style=\"stroke:blue;stroke-width:4\"/><line x1=\"199.99999999999991\" y1=\"450.0\" x2=\"209.99999999999991\" y2=\"450.0\" stroke-linecap=\"round\" style=\"stroke:blue;stroke-width:4\"/><line x1=\"209.99999999999991\" y1=\"450.0\" x2=\"209.9999999999999\" y2=\"290.0\" stroke-linecap=\"round\" style=\"stroke:blue;stroke-width:4\"/><line x1=\"209.9999999999999\" y1=\"290.0\" x2=\"249.9999999999999\" y2=\"290.0\" stroke-linecap=\"round\" style=\"stroke:blue;stroke-width:4\"/><line x1=\"249.9999999999999\" y1=\"290.0\" x2=\"249.9999999999999\" y2=\"450.0\" stroke-linecap=\"round\" style=\"stroke:blue;stroke-width:4\"/><line x1=\"249.9999999999999\" y1=\"450.0\" x2=\"259.9999999999999\" y2=\"450.0\" stroke-linecap=\"round\" style=\"stroke:blue;stroke-width:4\"/><line x1=\"259.9999999999999\" y1=\"450.0\" x2=\"259.99999999999983\" y2=\"190.0\" stroke-linecap=\"round\" style=\"stroke:blue;stroke-width:4\"/><line x1=\"259.99999999999983\" y1=\"190.0\" x2=\"299.99999999999983\" y2=\"190.0\" stroke-linecap=\"round\" style=\"stroke:blue;stroke-width:4\"/><line x1=\"299.99999999999983\" y1=\"190.0\" x2=\"299.99999999999983\" y2=\"450.0\" stroke-linecap=\"round\" style=\"stroke:blue;stroke-width:4\"/><line x1=\"299.99999999999983\" y1=\"450.0\" x2=\"309.99999999999983\" y2=\"450.0\" stroke-linecap=\"round\" style=\"stroke:blue;stroke-width:4\"/><line x1=\"309.99999999999983\" y1=\"450.0\" x2=\"309.9999999999998\" y2=\"230.0\" stroke-linecap=\"round\" style=\"stroke:blue;stroke-width:4\"/><line x1=\"309.9999999999998\" y1=\"230.0\" x2=\"349.9999999999998\" y2=\"230.0\" stroke-linecap=\"round\" style=\"stroke:blue;stroke-width:4\"/><line x1=\"349.9999999999998\" y1=\"230.0\" x2=\"349.9999999999998\" y2=\"450.0\" stroke-linecap=\"round\" style=\"stroke:blue;stroke-width:4\"/><line x1=\"349.9999999999998\" y1=\"450.0\" x2=\"359.9999999999998\" y2=\"450.0\" stroke-linecap=\"round\" style=\"stroke:blue;stroke-width:4\"/>\n",
              "        \n",
              "      <g visibility=visible transform=\"rotate(180,359.9999999999998,450.0) translate(359.9999999999998, 450.0)\">\n",
              "        <circle stroke=\"blue\" stroke-width=\"3\" fill=\"transparent\" r=\"12\" cx=\"0\" cy=\"0\"/>\n",
              "        <polygon points=\"0,19 3,16 -3,16\" style=\"fill:blue;stroke:blue;stroke-width:2\"/>\n",
              "      </g>\n",
              "    \n",
              "      </svg>\n",
              "    "
            ],
            "text/plain": [
              "<IPython.core.display.HTML object>"
            ]
          },
          "metadata": {
            "tags": []
          }
        }
      ]
    },
    {
      "cell_type": "markdown",
      "metadata": {
        "id": "R0eolZQJnx4g"
      },
      "source": [
        "Modifique-o para que o resultado seja um histograma, como o mostrado na figura abaixo. Amplie seu script para que seja possível passar ao programa dados (frequência), com o valor do bin (classe de frequência) e cores determinados pelo usuário.\n",
        "\n",
        "Adicione declarações condicionais à função para casos passíveis de gerar erros, como por exemplo, se alguma variável do argumento da função não for definida."
      ]
    },
    {
      "cell_type": "code",
      "metadata": {
        "id": "yHhUvQo8n4II",
        "outputId": "599450ca-c2a2-4e2b-db5d-656ba6c14e89",
        "colab": {
          "base_uri": "https://localhost:8080/",
          "height": 521
        }
      },
      "source": [
        "import ColabTurtle.Turtle as t\n",
        "\n",
        "def histograma(t, freq, bin, color=\"white\"):\n",
        "    if not isinstance(freq, list):\n",
        "        return print(\"Erro.\")\n",
        "    \n",
        "    if not isinstance(bin, int):\n",
        "        return print(\"Erro.\")\n",
        "    \n",
        "    if isinstance(color, str):\n",
        "        t.color(color)\n",
        "\n",
        "    for i in range(len(freq)):\n",
        "        if isinstance(color, list) and len(color) >= i:\n",
        "            t.color(color[i])\n",
        "\n",
        "        t.forward(freq[i])\n",
        "        t.right(90)\n",
        "        t.forward(bin)\n",
        "        t.right(90)\n",
        "        t.forward(freq[i])\n",
        "        t.left(90)\n",
        "        t.forward(10)\n",
        "        t.left(90)\n",
        "\n",
        "t.initializeTurtle()\n",
        "t.speed(10)\n",
        "t.penup()\n",
        "t.goto(10, 450)\n",
        "t.pendown()\n",
        "\n",
        "xs = [48, 117, 200, 240, 160, 260, 220]\n",
        "\n",
        "histograma(t, xs, 60)\n"
      ],
      "execution_count": null,
      "outputs": [
        {
          "output_type": "display_data",
          "data": {
            "text/html": [
              "\n",
              "      <svg width=\"800\" height=\"500\">\n",
              "        <rect width=\"100%\" height=\"100%\" fill=\"black\"/>\n",
              "        <line x1=\"10\" y1=\"450\" x2=\"9.999999999999991\" y2=\"402.0\" stroke-linecap=\"round\" style=\"stroke:white;stroke-width:4\"/><line x1=\"9.999999999999991\" y1=\"402.0\" x2=\"69.99999999999999\" y2=\"402.0\" stroke-linecap=\"round\" style=\"stroke:white;stroke-width:4\"/><line x1=\"69.99999999999999\" y1=\"402.0\" x2=\"69.99999999999999\" y2=\"450.0\" stroke-linecap=\"round\" style=\"stroke:white;stroke-width:4\"/><line x1=\"69.99999999999999\" y1=\"450.0\" x2=\"79.99999999999999\" y2=\"450.0\" stroke-linecap=\"round\" style=\"stroke:white;stroke-width:4\"/><line x1=\"79.99999999999999\" y1=\"450.0\" x2=\"79.99999999999996\" y2=\"333.0\" stroke-linecap=\"round\" style=\"stroke:white;stroke-width:4\"/><line x1=\"79.99999999999996\" y1=\"333.0\" x2=\"139.99999999999994\" y2=\"333.0\" stroke-linecap=\"round\" style=\"stroke:white;stroke-width:4\"/><line x1=\"139.99999999999994\" y1=\"333.0\" x2=\"139.99999999999994\" y2=\"450.0\" stroke-linecap=\"round\" style=\"stroke:white;stroke-width:4\"/><line x1=\"139.99999999999994\" y1=\"450.0\" x2=\"149.99999999999994\" y2=\"450.0\" stroke-linecap=\"round\" style=\"stroke:white;stroke-width:4\"/><line x1=\"149.99999999999994\" y1=\"450.0\" x2=\"149.99999999999991\" y2=\"250.0\" stroke-linecap=\"round\" style=\"stroke:white;stroke-width:4\"/><line x1=\"149.99999999999991\" y1=\"250.0\" x2=\"209.99999999999991\" y2=\"250.0\" stroke-linecap=\"round\" style=\"stroke:white;stroke-width:4\"/><line x1=\"209.99999999999991\" y1=\"250.0\" x2=\"209.99999999999991\" y2=\"450.0\" stroke-linecap=\"round\" style=\"stroke:white;stroke-width:4\"/><line x1=\"209.99999999999991\" y1=\"450.0\" x2=\"219.99999999999991\" y2=\"450.0\" stroke-linecap=\"round\" style=\"stroke:white;stroke-width:4\"/><line x1=\"219.99999999999991\" y1=\"450.0\" x2=\"219.99999999999986\" y2=\"210.0\" stroke-linecap=\"round\" style=\"stroke:white;stroke-width:4\"/><line x1=\"219.99999999999986\" y1=\"210.0\" x2=\"279.9999999999999\" y2=\"210.0\" stroke-linecap=\"round\" style=\"stroke:white;stroke-width:4\"/><line x1=\"279.9999999999999\" y1=\"210.0\" x2=\"279.9999999999999\" y2=\"450.0\" stroke-linecap=\"round\" style=\"stroke:white;stroke-width:4\"/><line x1=\"279.9999999999999\" y1=\"450.0\" x2=\"289.9999999999999\" y2=\"450.0\" stroke-linecap=\"round\" style=\"stroke:white;stroke-width:4\"/><line x1=\"289.9999999999999\" y1=\"450.0\" x2=\"289.99999999999983\" y2=\"290.0\" stroke-linecap=\"round\" style=\"stroke:white;stroke-width:4\"/><line x1=\"289.99999999999983\" y1=\"290.0\" x2=\"349.99999999999983\" y2=\"290.0\" stroke-linecap=\"round\" style=\"stroke:white;stroke-width:4\"/><line x1=\"349.99999999999983\" y1=\"290.0\" x2=\"349.99999999999983\" y2=\"450.0\" stroke-linecap=\"round\" style=\"stroke:white;stroke-width:4\"/><line x1=\"349.99999999999983\" y1=\"450.0\" x2=\"359.99999999999983\" y2=\"450.0\" stroke-linecap=\"round\" style=\"stroke:white;stroke-width:4\"/><line x1=\"359.99999999999983\" y1=\"450.0\" x2=\"359.9999999999998\" y2=\"190.0\" stroke-linecap=\"round\" style=\"stroke:white;stroke-width:4\"/><line x1=\"359.9999999999998\" y1=\"190.0\" x2=\"419.9999999999998\" y2=\"190.0\" stroke-linecap=\"round\" style=\"stroke:white;stroke-width:4\"/><line x1=\"419.9999999999998\" y1=\"190.0\" x2=\"419.9999999999998\" y2=\"450.0\" stroke-linecap=\"round\" style=\"stroke:white;stroke-width:4\"/><line x1=\"419.9999999999998\" y1=\"450.0\" x2=\"429.9999999999998\" y2=\"450.0\" stroke-linecap=\"round\" style=\"stroke:white;stroke-width:4\"/><line x1=\"429.9999999999998\" y1=\"450.0\" x2=\"429.9999999999997\" y2=\"230.0\" stroke-linecap=\"round\" style=\"stroke:white;stroke-width:4\"/><line x1=\"429.9999999999997\" y1=\"230.0\" x2=\"489.9999999999997\" y2=\"230.0\" stroke-linecap=\"round\" style=\"stroke:white;stroke-width:4\"/><line x1=\"489.9999999999997\" y1=\"230.0\" x2=\"489.9999999999997\" y2=\"450.0\" stroke-linecap=\"round\" style=\"stroke:white;stroke-width:4\"/><line x1=\"489.9999999999997\" y1=\"450.0\" x2=\"499.9999999999997\" y2=\"450.0\" stroke-linecap=\"round\" style=\"stroke:white;stroke-width:4\"/>\n",
              "        \n",
              "      <g visibility=visible transform=\"rotate(180,499.9999999999997,450.0) translate(499.9999999999997, 450.0)\">\n",
              "        <circle stroke=\"white\" stroke-width=\"3\" fill=\"transparent\" r=\"12\" cx=\"0\" cy=\"0\"/>\n",
              "        <polygon points=\"0,19 3,16 -3,16\" style=\"fill:white;stroke:white;stroke-width:2\"/>\n",
              "      </g>\n",
              "    \n",
              "      </svg>\n",
              "    "
            ],
            "text/plain": [
              "<IPython.core.display.HTML object>"
            ]
          },
          "metadata": {
            "tags": []
          }
        }
      ]
    },
    {
      "cell_type": "markdown",
      "metadata": {
        "id": "sXs9qgZCnXzh"
      },
      "source": [
        "# Exercício 2\n",
        "\n",
        "Repita o exercício (1) usando Manipulação de exceção em Python, com as cláusulas try e except."
      ]
    },
    {
      "cell_type": "code",
      "metadata": {
        "id": "gpaRK7KhRL8N",
        "outputId": "cc610df7-67f4-4a9a-b866-a812a962a6f2",
        "colab": {
          "base_uri": "https://localhost:8080/",
          "height": 521
        }
      },
      "source": [
        "import ColabTurtle.Turtle as t\n",
        "\n",
        "def histograma(t, freq, bin, color=\"white\"):\n",
        "    try:\n",
        "        for i in range(len(freq)):\n",
        "            t.color(color[i])\n",
        "            t.forward(freq[i])\n",
        "            t.right(90)\n",
        "            t.forward(bin)\n",
        "            t.right(90)\n",
        "            t.forward(freq[i])\n",
        "            t.left(90)\n",
        "            t.forward(10)\n",
        "            t.left(90)\n",
        "\n",
        "    except ValueError:\n",
        "        return print(\"Erro.\")\n",
        "\n",
        "t.initializeTurtle()\n",
        "t.speed(10)\n",
        "t.penup()\n",
        "t.goto(10, 450)\n",
        "t.pendown()\n",
        "\n",
        "xs = [48, 117, 200, 240, 160, 260, 220]\n",
        "\n",
        "histograma(t, xs, 60, [\"white\", \"green\", \"red\", \"white\", \"green\", \"red\", \"white\"])\n"
      ],
      "execution_count": null,
      "outputs": [
        {
          "output_type": "display_data",
          "data": {
            "text/html": [
              "\n",
              "      <svg width=\"800\" height=\"500\">\n",
              "        <rect width=\"100%\" height=\"100%\" fill=\"black\"/>\n",
              "        <line x1=\"10\" y1=\"450\" x2=\"9.999999999999991\" y2=\"402.0\" stroke-linecap=\"round\" style=\"stroke:white;stroke-width:4\"/><line x1=\"9.999999999999991\" y1=\"402.0\" x2=\"69.99999999999999\" y2=\"402.0\" stroke-linecap=\"round\" style=\"stroke:white;stroke-width:4\"/><line x1=\"69.99999999999999\" y1=\"402.0\" x2=\"69.99999999999999\" y2=\"450.0\" stroke-linecap=\"round\" style=\"stroke:white;stroke-width:4\"/><line x1=\"69.99999999999999\" y1=\"450.0\" x2=\"79.99999999999999\" y2=\"450.0\" stroke-linecap=\"round\" style=\"stroke:white;stroke-width:4\"/><line x1=\"79.99999999999999\" y1=\"450.0\" x2=\"79.99999999999996\" y2=\"333.0\" stroke-linecap=\"round\" style=\"stroke:green;stroke-width:4\"/><line x1=\"79.99999999999996\" y1=\"333.0\" x2=\"139.99999999999994\" y2=\"333.0\" stroke-linecap=\"round\" style=\"stroke:green;stroke-width:4\"/><line x1=\"139.99999999999994\" y1=\"333.0\" x2=\"139.99999999999994\" y2=\"450.0\" stroke-linecap=\"round\" style=\"stroke:green;stroke-width:4\"/><line x1=\"139.99999999999994\" y1=\"450.0\" x2=\"149.99999999999994\" y2=\"450.0\" stroke-linecap=\"round\" style=\"stroke:green;stroke-width:4\"/><line x1=\"149.99999999999994\" y1=\"450.0\" x2=\"149.99999999999991\" y2=\"250.0\" stroke-linecap=\"round\" style=\"stroke:red;stroke-width:4\"/><line x1=\"149.99999999999991\" y1=\"250.0\" x2=\"209.99999999999991\" y2=\"250.0\" stroke-linecap=\"round\" style=\"stroke:red;stroke-width:4\"/><line x1=\"209.99999999999991\" y1=\"250.0\" x2=\"209.99999999999991\" y2=\"450.0\" stroke-linecap=\"round\" style=\"stroke:red;stroke-width:4\"/><line x1=\"209.99999999999991\" y1=\"450.0\" x2=\"219.99999999999991\" y2=\"450.0\" stroke-linecap=\"round\" style=\"stroke:red;stroke-width:4\"/><line x1=\"219.99999999999991\" y1=\"450.0\" x2=\"219.99999999999986\" y2=\"210.0\" stroke-linecap=\"round\" style=\"stroke:white;stroke-width:4\"/><line x1=\"219.99999999999986\" y1=\"210.0\" x2=\"279.9999999999999\" y2=\"210.0\" stroke-linecap=\"round\" style=\"stroke:white;stroke-width:4\"/><line x1=\"279.9999999999999\" y1=\"210.0\" x2=\"279.9999999999999\" y2=\"450.0\" stroke-linecap=\"round\" style=\"stroke:white;stroke-width:4\"/><line x1=\"279.9999999999999\" y1=\"450.0\" x2=\"289.9999999999999\" y2=\"450.0\" stroke-linecap=\"round\" style=\"stroke:white;stroke-width:4\"/><line x1=\"289.9999999999999\" y1=\"450.0\" x2=\"289.99999999999983\" y2=\"290.0\" stroke-linecap=\"round\" style=\"stroke:green;stroke-width:4\"/><line x1=\"289.99999999999983\" y1=\"290.0\" x2=\"349.99999999999983\" y2=\"290.0\" stroke-linecap=\"round\" style=\"stroke:green;stroke-width:4\"/><line x1=\"349.99999999999983\" y1=\"290.0\" x2=\"349.99999999999983\" y2=\"450.0\" stroke-linecap=\"round\" style=\"stroke:green;stroke-width:4\"/><line x1=\"349.99999999999983\" y1=\"450.0\" x2=\"359.99999999999983\" y2=\"450.0\" stroke-linecap=\"round\" style=\"stroke:green;stroke-width:4\"/><line x1=\"359.99999999999983\" y1=\"450.0\" x2=\"359.9999999999998\" y2=\"190.0\" stroke-linecap=\"round\" style=\"stroke:red;stroke-width:4\"/><line x1=\"359.9999999999998\" y1=\"190.0\" x2=\"419.9999999999998\" y2=\"190.0\" stroke-linecap=\"round\" style=\"stroke:red;stroke-width:4\"/><line x1=\"419.9999999999998\" y1=\"190.0\" x2=\"419.9999999999998\" y2=\"450.0\" stroke-linecap=\"round\" style=\"stroke:red;stroke-width:4\"/><line x1=\"419.9999999999998\" y1=\"450.0\" x2=\"429.9999999999998\" y2=\"450.0\" stroke-linecap=\"round\" style=\"stroke:red;stroke-width:4\"/><line x1=\"429.9999999999998\" y1=\"450.0\" x2=\"429.9999999999997\" y2=\"230.0\" stroke-linecap=\"round\" style=\"stroke:white;stroke-width:4\"/><line x1=\"429.9999999999997\" y1=\"230.0\" x2=\"489.9999999999997\" y2=\"230.0\" stroke-linecap=\"round\" style=\"stroke:white;stroke-width:4\"/><line x1=\"489.9999999999997\" y1=\"230.0\" x2=\"489.9999999999997\" y2=\"450.0\" stroke-linecap=\"round\" style=\"stroke:white;stroke-width:4\"/><line x1=\"489.9999999999997\" y1=\"450.0\" x2=\"499.9999999999997\" y2=\"450.0\" stroke-linecap=\"round\" style=\"stroke:white;stroke-width:4\"/>\n",
              "        \n",
              "      <g visibility=visible transform=\"rotate(180,499.9999999999997,450.0) translate(499.9999999999997, 450.0)\">\n",
              "        <circle stroke=\"white\" stroke-width=\"3\" fill=\"transparent\" r=\"12\" cx=\"0\" cy=\"0\"/>\n",
              "        <polygon points=\"0,19 3,16 -3,16\" style=\"fill:white;stroke:white;stroke-width:2\"/>\n",
              "      </g>\n",
              "    \n",
              "      </svg>\n",
              "    "
            ],
            "text/plain": [
              "<IPython.core.display.HTML object>"
            ]
          },
          "metadata": {
            "tags": []
          }
        }
      ]
    },
    {
      "cell_type": "markdown",
      "metadata": {
        "id": "__0sYCYAngw2"
      },
      "source": [
        "# Desafio\n",
        "\n",
        "Faça um programa equivalente ao do exercício (1), utilizando matplotlib e numpy ao invés de turtle"
      ]
    },
    {
      "cell_type": "code",
      "metadata": {
        "id": "dAoCxhDxUtsK",
        "outputId": "857a6f57-8490-4b03-b33f-a26c5b37a894",
        "colab": {
          "base_uri": "https://localhost:8080/",
          "height": 335
        }
      },
      "source": [
        "import matplotlib.pyplot as plt\n",
        "import numpy\n",
        "\n",
        "xs = [48, 117, 200, 240, 160, 260, 220]\n",
        "\n",
        "plt.hist(xs)"
      ],
      "execution_count": null,
      "outputs": [
        {
          "output_type": "execute_result",
          "data": {
            "text/plain": [
              "(array([1., 0., 0., 1., 0., 1., 0., 1., 1., 2.]),\n",
              " array([ 48. ,  69.2,  90.4, 111.6, 132.8, 154. , 175.2, 196.4, 217.6,\n",
              "        238.8, 260. ]),\n",
              " <a list of 10 Patch objects>)"
            ]
          },
          "metadata": {
            "tags": []
          },
          "execution_count": 13
        },
        {
          "output_type": "display_data",
          "data": {
            "image/png": "[encoded data removed]",
            "text/plain": [
              "<Figure size 432x288 with 1 Axes>"
            ]
          },
          "metadata": {
            "tags": [],
            "needs_background": "light"
          }
        }
      ]
    }
  ]
}