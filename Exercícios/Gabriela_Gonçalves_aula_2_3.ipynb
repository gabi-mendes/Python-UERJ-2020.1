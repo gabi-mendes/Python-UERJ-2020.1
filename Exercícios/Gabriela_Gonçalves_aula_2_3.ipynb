{
  "nbformat": 4,
  "nbformat_minor": 0,
  "metadata": {
    "colab": {
      "name": "Gabriela_Gonçalves_aula_2_3.ipynb",
      "provenance": [],
      "authorship_tag": "ABX9TyNpzrkvy0rTc94XKKrvbL9T",
      "include_colab_link": true
    },
    "kernelspec": {
      "name": "python3",
      "display_name": "Python 3"
    }
  },
  "cells": [
    {
      "cell_type": "markdown",
      "metadata": {
        "id": "view-in-github",
        "colab_type": "text"
      },
      "source": [
        "<a href=\"https://colab.research.google.com/github/gabi-mendes/Python-UERJ-2020.1/blob/master/Exerc%C3%ADcios/Gabriela_Gon%C3%A7alves_aula_2_3.ipynb\" target=\"_parent\"><img src=\"https://colab.research.google.com/assets/colab-badge.svg\" alt=\"Open In Colab\"/></a>"
      ]
    },
    {
      "cell_type": "markdown",
      "metadata": {
        "id": "b9K1zlY0JxlZ",
        "colab_type": "text"
      },
      "source": [
        "**Aula 2**\n",
        "\n",
        "**Exercício 3)** Se você fizer uma corrida de 10 quilômetros em 43 minutos e 30 segundos, qual será seu tempo médio por milha? Qual é a sua velocidade média em milhas por hora? (Dica: há 1,61 quilômetros em uma milha)."
      ]
    },
    {
      "cell_type": "markdown",
      "metadata": {
        "id": "u44yk6TEKry3",
        "colab_type": "text"
      },
      "source": [
        "*distancia* é a variável correspondente a distância total da corrida de 10 quilômetros."
      ]
    },
    {
      "cell_type": "code",
      "metadata": {
        "id": "wbR3LTHGI2cw",
        "colab_type": "code",
        "colab": {}
      },
      "source": [
        "distancia = 10"
      ],
      "execution_count": 1,
      "outputs": []
    },
    {
      "cell_type": "markdown",
      "metadata": {
        "id": "UJQOg2PXK_NS",
        "colab_type": "text"
      },
      "source": [
        "Convertendo *distancia* para milhas."
      ]
    },
    {
      "cell_type": "code",
      "metadata": {
        "id": "OaW4b6stLXhx",
        "colab_type": "code",
        "colab": {
          "base_uri": "https://localhost:8080/",
          "height": 34
        },
        "outputId": "c7915b82-b829-4f21-930b-c466299e2ff1"
      },
      "source": [
        "distancia = distancia / 1.61\n",
        "print(distancia)"
      ],
      "execution_count": 2,
      "outputs": [
        {
          "output_type": "stream",
          "text": [
            "6.211180124223602\n"
          ],
          "name": "stdout"
        }
      ]
    },
    {
      "cell_type": "markdown",
      "metadata": {
        "id": "YUm8kM5CLsDr",
        "colab_type": "text"
      },
      "source": [
        "Convertendo o tempo *t* para hora."
      ]
    },
    {
      "cell_type": "code",
      "metadata": {
        "id": "mSe_1W4TL24I",
        "colab_type": "code",
        "colab": {
          "base_uri": "https://localhost:8080/",
          "height": 34
        },
        "outputId": "705a3062-5331-4d4b-f9ed-7473aff82916"
      },
      "source": [
        "t = 43.5 / 60\n",
        "print(t)"
      ],
      "execution_count": 3,
      "outputs": [
        {
          "output_type": "stream",
          "text": [
            "0.725\n"
          ],
          "name": "stdout"
        }
      ]
    },
    {
      "cell_type": "markdown",
      "metadata": {
        "id": "9uR1U6XXMCPI",
        "colab_type": "text"
      },
      "source": [
        "Determinando o tempo médio *T* por milha em hora."
      ]
    },
    {
      "cell_type": "code",
      "metadata": {
        "id": "SIV6idmWMoac",
        "colab_type": "code",
        "colab": {
          "base_uri": "https://localhost:8080/",
          "height": 34
        },
        "outputId": "fcca03be-a5f8-4688-f61b-e5ad00f57b00"
      },
      "source": [
        "T = t / distancia\n",
        "print(T)"
      ],
      "execution_count": 4,
      "outputs": [
        {
          "output_type": "stream",
          "text": [
            "0.11672500000000001\n"
          ],
          "name": "stdout"
        }
      ]
    },
    {
      "cell_type": "markdown",
      "metadata": {
        "id": "9IWG7EgoM83y",
        "colab_type": "text"
      },
      "source": [
        "Determinando a velocidade média *v* em milhas por hora."
      ]
    },
    {
      "cell_type": "code",
      "metadata": {
        "id": "5EDwz1rGM7Fb",
        "colab_type": "code",
        "colab": {
          "base_uri": "https://localhost:8080/",
          "height": 34
        },
        "outputId": "77f92fba-9373-430d-e769-1b4fbcffbf79"
      },
      "source": [
        "v = distancia / t\n",
        "print(v)"
      ],
      "execution_count": 5,
      "outputs": [
        {
          "output_type": "stream",
          "text": [
            "8.567144998929106\n"
          ],
          "name": "stdout"
        }
      ]
    }
  ]
}