{
  "nbformat": 4,
  "nbformat_minor": 0,
  "metadata": {
    "colab": {
      "name": "Gabriela_Mendes_Aula_3.ipynb",
      "provenance": [],
      "authorship_tag": "ABX9TyOINiRTwKZVOHytvebvck0+",
      "include_colab_link": true
    },
    "kernelspec": {
      "name": "python3",
      "display_name": "Python 3"
    }
  },
  "cells": [
    {
      "cell_type": "markdown",
      "metadata": {
        "id": "view-in-github",
        "colab_type": "text"
      },
      "source": [
        "<a href=\"https://colab.research.google.com/github/gabi-mendes/Python-UERJ-2020.1/blob/master/Exerc%C3%ADcios/Gabriela_Mendes_Aula_3.ipynb\" target=\"_parent\"><img src=\"https://colab.research.google.com/assets/colab-badge.svg\" alt=\"Open In Colab\"/></a>"
      ]
    },
    {
      "cell_type": "markdown",
      "metadata": {
        "id": "kncddY2ufmkQ"
      },
      "source": [
        "# Exercício 1\n",
        "\n",
        "Crie uma funcão que tome um argumento e imprima o valor e o tipo dele."
      ]
    },
    {
      "cell_type": "markdown",
      "metadata": {
        "id": "qEP6QPtjk4ZF"
      },
      "source": [
        "Definindo uma função valor_e_tipo para imprimir o valor e tipo de seu argumento."
      ]
    },
    {
      "cell_type": "code",
      "metadata": {
        "id": "Rs5gPRw7emIr"
      },
      "source": [
        "def valor_e_tipo(valor):\n",
        "  print(valor, type(valor))"
      ],
      "execution_count": 31,
      "outputs": []
    },
    {
      "cell_type": "markdown",
      "metadata": {
        "id": "Q6sJuwBVk2xP"
      },
      "source": [
        "Realizando alguns testes."
      ]
    },
    {
      "cell_type": "code",
      "metadata": {
        "id": "wLpuWRRqktRN",
        "outputId": "92a24796-938e-434f-f2da-3342d4c44054",
        "colab": {
          "base_uri": "https://localhost:8080/",
          "height": 68
        }
      },
      "source": [
        "valor_e_tipo(1)\n",
        "valor_e_tipo(2.0)\n",
        "valor_e_tipo(\"Python\")"
      ],
      "execution_count": 32,
      "outputs": [
        {
          "output_type": "stream",
          "text": [
            "1 <class 'int'>\n",
            "2.0 <class 'float'>\n",
            "Python <class 'str'>\n"
          ],
          "name": "stdout"
        }
      ]
    },
    {
      "cell_type": "markdown",
      "metadata": {
        "id": "JPQppK5QlGur"
      },
      "source": [
        "# Exercício 2\n",
        "\n",
        "Crie uma função que calcule e imprima velocidade media de um objeto a partir de uma posição inicial, a final e o tempo transcorrido para um objeto em MRU. Também crie uma funcão que calcule e imprima a velocidade de um objeto a partir da aceleração constante e o tempo (MRUA) (p.ex. queda libre)."
      ]
    },
    {
      "cell_type": "code",
      "metadata": {
        "id": "kX5Jg2KRlPJl",
        "outputId": "1318fbe0-8cc9-449e-8182-424eb10dc6ef",
        "colab": {
          "base_uri": "https://localhost:8080/",
          "height": 85
        }
      },
      "source": [
        "def MRU(posicao_inicial, posicao_final, tempo):\n",
        "  v = ((posicao_final - posicao_inicial) / tempo)\n",
        "  print(\"A velocidade média no MRU é\", v, \"m/s\")\n",
        "\n",
        "pi = float(input(\"Posição inicial: \"))\n",
        "pf = float(input(\"Posição final: \"))\n",
        "t = float(input(\"Tempo: \"))\n",
        "\n",
        "MRU(pi, pf, t)"
      ],
      "execution_count": 36,
      "outputs": [
        {
          "output_type": "stream",
          "text": [
            "Posição inicial: 1\n",
            "Posição final: 1\n",
            "Tempo: 1\n",
            "A velocidade média no MRU é 0.0 m/s\n"
          ],
          "name": "stdout"
        }
      ]
    },
    {
      "cell_type": "code",
      "metadata": {
        "id": "BTteHMhVndWX",
        "outputId": "837d9344-beae-4528-998e-17a2d6bf72bc",
        "colab": {
          "base_uri": "https://localhost:8080/",
          "height": 68
        }
      },
      "source": [
        "def MRUA(aceleracao, tempo):\n",
        "  v = (aceleracao * tempo)\n",
        "  print(\"A velocidade média no MRUA é\", v, \"m/s\")\n",
        "\n",
        "a = float(input(\"Aceleração: \"))\n",
        "t = float(input(\"Tempo: \"))\n",
        "\n",
        "MRUA(a, t)"
      ],
      "execution_count": 37,
      "outputs": [
        {
          "output_type": "stream",
          "text": [
            "Aceleração: 5\n",
            "Tempo: 3\n",
            "A velocidade média no MRUA é 15.0 m/s\n"
          ],
          "name": "stdout"
        }
      ]
    },
    {
      "cell_type": "markdown",
      "metadata": {
        "id": "9P3s0isDkxpR"
      },
      "source": [
        "# Exercício 3\n",
        "\n",
        "Crie uma funcão para calcular o ángulo zenital do sol (da semana passada) tomando como argumento as medidas da altura e o comprimento da sombra."
      ]
    },
    {
      "cell_type": "code",
      "metadata": {
        "id": "_8CgRv42lIJP"
      },
      "source": [
        "import math\n",
        "\n",
        "def angulo_zenital(altura, comprimento):\n",
        "  return math.degrees(math.atan(altura / comprimento))"
      ],
      "execution_count": 4,
      "outputs": []
    },
    {
      "cell_type": "code",
      "metadata": {
        "id": "7TNCTchhmMTM",
        "outputId": "53fab5aa-8ca7-4b83-be87-e7edb2bdd12b",
        "colab": {
          "base_uri": "https://localhost:8080/",
          "height": 34
        }
      },
      "source": [
        "print(\"O ângulo zenital é\", angulo_zenital(4, 4), \"graus.\")"
      ],
      "execution_count": 5,
      "outputs": [
        {
          "output_type": "stream",
          "text": [
            "O ângulo zenital é 45.0 graus.\n"
          ],
          "name": "stdout"
        }
      ]
    },
    {
      "cell_type": "markdown",
      "metadata": {
        "id": "3pAI5oXkmJqV"
      },
      "source": [
        "# Exercício 4\n",
        "\n",
        "Crie uma função que faça a conversão de uma medida inicialmente em milhas para m, e outra para o inverso; uma de horas para segundos, e o inverso. Utilize estas funções para resolver novamente o primeiro exercício da semana passada (da corrida). Se uma pessoa demora 30 minutos em 4 milhas, qual velocidade media em km/h ? e o tempo medio por kilometro?"
      ]
    },
    {
      "cell_type": "code",
      "metadata": {
        "id": "NnabuM0Amk-W"
      },
      "source": [
        "def milhas(metros):\n",
        "  return metros / 1610\n",
        "\n",
        "def metros(milhas):\n",
        "  return milhas * 1610"
      ],
      "execution_count": 6,
      "outputs": []
    },
    {
      "cell_type": "code",
      "metadata": {
        "id": "0ugT9inMnBp7"
      },
      "source": [
        "def horas(segundos):\n",
        "  return segundos / 3600\n",
        "\n",
        "def segundos(horas):\n",
        "  return horas * 3600"
      ],
      "execution_count": 7,
      "outputs": []
    },
    {
      "cell_type": "code",
      "metadata": {
        "id": "x1ssS9pwnPk8",
        "outputId": "08e206d0-d5b1-4173-977a-43cde838857a",
        "colab": {
          "base_uri": "https://localhost:8080/",
          "height": 51
        }
      },
      "source": [
        "tempo = horas(30 * 60)  # Em horas.\n",
        "distancia = metros(4) / 1000  # Em quilômetros.\n",
        "\n",
        "velocidade_media = distancia / tempo  # Em quilômetros por horas.\n",
        "print(\"A velocidade média é\", velocidade_media, \"km/h.\")\n",
        "\n",
        "tempo_medio = tempo / distancia  # Em horas por quilômetros.\n",
        "print(\"O tempo médio é\", tempo_medio, \"h/km.\")"
      ],
      "execution_count": 8,
      "outputs": [
        {
          "output_type": "stream",
          "text": [
            "A velocidade média é 12.88 km/h.\n",
            "O tempo médio é 0.07763975155279502 h/km.\n"
          ],
          "name": "stdout"
        }
      ]
    },
    {
      "cell_type": "markdown",
      "metadata": {
        "id": "bcXjpT32SoVk"
      },
      "source": [
        "# Exercício 5\n",
        "\n",
        "Crie funções para calcular os outros exemplos das aulas anteriores: IMC, volume de uma esfera, distancia entre pontos de máximos de difração. Decida quais serão os argumentos e o valor retornado.\n",
        "\n",
        "\n"
      ]
    },
    {
      "cell_type": "code",
      "metadata": {
        "id": "B-JfXjp3Szgo"
      },
      "source": [
        "def IMC(massa, altura):\n",
        "  return massa / altura ** 2"
      ],
      "execution_count": 8,
      "outputs": []
    },
    {
      "cell_type": "code",
      "metadata": {
        "id": "L7sA7CZzKAk6",
        "outputId": "5015d6be-3763-43dc-d51f-b1d75e561790",
        "colab": {
          "base_uri": "https://localhost:8080/",
          "height": 34
        }
      },
      "source": [
        "print(IMC(49, 1.50))"
      ],
      "execution_count": 16,
      "outputs": [
        {
          "output_type": "stream",
          "text": [
            "21.77777777777778\n"
          ],
          "name": "stdout"
        }
      ]
    },
    {
      "cell_type": "code",
      "metadata": {
        "id": "eFNCv_Z9I3u5"
      },
      "source": [
        "from math import pi\n",
        "\n",
        "def volume_esfera(raio):\n",
        "  return (4 / 3) * pi * raio ** 3"
      ],
      "execution_count": 5,
      "outputs": []
    },
    {
      "cell_type": "code",
      "metadata": {
        "id": "PE5EOucGJyM2",
        "outputId": "19c20c9c-c796-4843-dc0d-b0a990fc0190",
        "colab": {
          "base_uri": "https://localhost:8080/",
          "height": 34
        }
      },
      "source": [
        "print(volume_esfera(2), 'm^3.')"
      ],
      "execution_count": 7,
      "outputs": [
        {
          "output_type": "stream",
          "text": [
            "33.510321638291124 m^3.\n"
          ],
          "name": "stdout"
        }
      ]
    },
    {
      "cell_type": "code",
      "metadata": {
        "id": "N8HNg9ZUJKr5"
      },
      "source": [
        "def maximos_difracao(lambda_, D, d):\n",
        "  return lambda_ * D / d"
      ],
      "execution_count": 3,
      "outputs": []
    }
  ]
}
