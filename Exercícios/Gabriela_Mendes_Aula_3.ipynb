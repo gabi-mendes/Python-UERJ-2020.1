{
  "nbformat": 4,
  "nbformat_minor": 0,
  "metadata": {
    "colab": {
      "name": "Gabriela_Mendes_Aula_3.ipynb",
      "provenance": [],
      "authorship_tag": "ABX9TyN9+E8AY1etZsU0ntRT5elS",
      "include_colab_link": true
    },
    "kernelspec": {
      "name": "python3",
      "display_name": "Python 3"
    }
  },
  "cells": [
    {
      "cell_type": "markdown",
      "metadata": {
        "id": "view-in-github",
        "colab_type": "text"
      },
      "source": [
        "<a href=\"https://colab.research.google.com/github/gabi-mendes/Python-UERJ-2020.1/blob/master/Exerc%C3%ADcios/Gabriela_Mendes_Aula_3.ipynb\" target=\"_parent\"><img src=\"https://colab.research.google.com/assets/colab-badge.svg\" alt=\"Open In Colab\"/></a>"
      ]
    },
    {
      "cell_type": "markdown",
      "metadata": {
        "id": "ByvTi503D9jg",
        "colab_type": "text"
      },
      "source": [
        "# **Aula 3**\n"
      ]
    },
    {
      "cell_type": "markdown",
      "metadata": {
        "id": "NdIm1bHtG72N",
        "colab_type": "text"
      },
      "source": [
        "#  Exercício 2\n",
        "\n",
        "**Enunciado:** O volume de uma esfera de raio r é $\\frac{4}{3} \\pi r^{3}$. Qual é o volume de uma esfera de raio 5?\n",
        "\n",
        "\n"
      ]
    },
    {
      "cell_type": "markdown",
      "metadata": {
        "id": "m0W7fMlqFH4x",
        "colab_type": "text"
      },
      "source": [
        "Definindo o raio r e a constante $\\pi$:"
      ]
    },
    {
      "cell_type": "code",
      "metadata": {
        "id": "zw780kOpFDKi",
        "colab_type": "code",
        "colab": {}
      },
      "source": [
        "r = 5  \n",
        "PI = 3.14"
      ],
      "execution_count": 1,
      "outputs": []
    },
    {
      "cell_type": "markdown",
      "metadata": {
        "id": "OtdmElxUFTbt",
        "colab_type": "text"
      },
      "source": [
        "Substituindo o raio r e o $\\pi$ na equação de volume de uma esfera:"
      ]
    },
    {
      "cell_type": "code",
      "metadata": {
        "id": "RIiSRZvBFWON",
        "colab_type": "code",
        "colab": {
          "base_uri": "https://localhost:8080/",
          "height": 0
        },
        "outputId": "441bcf03-d34c-4ea0-d012-83d79a28a779"
      },
      "source": [
        "V = 4 / 3 * PI * r**3\n",
        "print(round(V, 2)) "
      ],
      "execution_count": 2,
      "outputs": [
        {
          "output_type": "stream",
          "text": [
            "523.33\n"
          ],
          "name": "stdout"
        }
      ]
    },
    {
      "cell_type": "markdown",
      "metadata": {
        "id": "c8RYikP_H16W",
        "colab_type": "text"
      },
      "source": [
        "# Exercício 3\n",
        "\n",
        "**Enunciado:** Suponha que o preço de um livro seja 24.95 reais, porém as livrarias têm desconto de 40%. Os custos de envio são de 3.00 reais para o primeiro livro e 0.75 reais para os livros adicionais. Qual é o custo total da compra de 60 livros?"
      ]
    },
    {
      "cell_type": "markdown",
      "metadata": {
        "id": "G8GbHZ4GJZKj",
        "colab_type": "text"
      },
      "source": [
        "Definindo o valor do livro em reais:"
      ]
    },
    {
      "cell_type": "code",
      "metadata": {
        "id": "wWIWBaNvIb1b",
        "colab_type": "code",
        "colab": {}
      },
      "source": [
        "livro = 24.95 "
      ],
      "execution_count": 3,
      "outputs": []
    },
    {
      "cell_type": "markdown",
      "metadata": {
        "id": "DnlKDycvJoN-",
        "colab_type": "text"
      },
      "source": [
        "Em um livro tem 3 reais de custo de envio e nos outros 59 livros tem um custo de 0,75 reais de envio. "
      ]
    },
    {
      "cell_type": "code",
      "metadata": {
        "id": "5yl-Eo9WJ_jh",
        "colab_type": "code",
        "colab": {
          "base_uri": "https://localhost:8080/",
          "height": 34
        },
        "outputId": "d446a2a8-b5e3-4972-ef88-c18aff8427a4"
      },
      "source": [
        "custo_envio = 3 + 0.75 * 59\n",
        "print(custo_envio, 'reais')"
      ],
      "execution_count": 4,
      "outputs": [
        {
          "output_type": "stream",
          "text": [
            "47.25 reais\n"
          ],
          "name": "stdout"
        }
      ]
    },
    {
      "cell_type": "markdown",
      "metadata": {
        "id": "bcbgN77vKSlD",
        "colab_type": "text"
      },
      "source": [
        "Definindo o custo total dos 60 livros:"
      ]
    },
    {
      "cell_type": "code",
      "metadata": {
        "id": "k9Q4wzZhKfmH",
        "colab_type": "code",
        "colab": {
          "base_uri": "https://localhost:8080/",
          "height": 34
        },
        "outputId": "247bfc90-6989-47dd-f330-17f6d9d89fce"
      },
      "source": [
        "custo_total = custo_envio + livro * 60\n",
        "print(custo_total, 'reais')"
      ],
      "execution_count": 5,
      "outputs": [
        {
          "output_type": "stream",
          "text": [
            "1544.25 reais\n"
          ],
          "name": "stdout"
        }
      ]
    },
    {
      "cell_type": "markdown",
      "metadata": {
        "id": "bSHBd60eKvd4",
        "colab_type": "text"
      },
      "source": [
        "Considerando os 40% de desconto sobre o total de custo:"
      ]
    },
    {
      "cell_type": "code",
      "metadata": {
        "id": "qWn8EDMFK1Rv",
        "colab_type": "code",
        "colab": {
          "base_uri": "https://localhost:8080/",
          "height": 34
        },
        "outputId": "ca3e600f-3a55-403a-c9eb-5d3384d394fa"
      },
      "source": [
        "custo_total_desconto = custo_total * 0.6\n",
        "print(custo_total_desconto, 'reais')"
      ],
      "execution_count": 6,
      "outputs": [
        {
          "output_type": "stream",
          "text": [
            "926.55 reais\n"
          ],
          "name": "stdout"
        }
      ]
    },
    {
      "cell_type": "markdown",
      "metadata": {
        "id": "i1nFVE-pKblW",
        "colab_type": "text"
      },
      "source": [
        ""
      ]
    },
    {
      "cell_type": "markdown",
      "metadata": {
        "id": "76sta8J5Lb5g",
        "colab_type": "text"
      },
      "source": [
        "# Exercício 4\n",
        "\n",
        "**Enunciado:** Um laser vermelho (com comprimento de onda $\\lambda = 632.8$ nm) incide em uma fenda dupla produzindo um padrão de interferência com franjas claras e escuras, em um anteparo situado a uma distância D = 1.98 m da fenda. Calcule a distância $\\Delta y$ entre dois máximos consecutivos de interferência. Considere o espaçamento entre as fendas, $d$, como sendo igual a 0.250 mm. <em>Dica: a distância entre dois máximos de interferência consecutivos pode ser aproximada por $\\Delta y = \\frac{\\lambda D}{d}$."
      ]
    },
    {
      "cell_type": "markdown",
      "metadata": {
        "id": "gLTAW-cSLrmK",
        "colab_type": "text"
      },
      "source": [
        "Definindo as variáveis:"
      ]
    },
    {
      "cell_type": "code",
      "metadata": {
        "id": "oZphyyaPMSgZ",
        "colab_type": "code",
        "colab": {}
      },
      "source": [
        "lambda_ = 632.8 * 10 ** (-9)\n",
        "D = 1.98\n",
        "d = 0.250 * 10 ** (-3)"
      ],
      "execution_count": 7,
      "outputs": []
    },
    {
      "cell_type": "markdown",
      "metadata": {
        "id": "hBAkylNpM-aO",
        "colab_type": "text"
      },
      "source": [
        "Substituindo as variáveis na equação:"
      ]
    },
    {
      "cell_type": "code",
      "metadata": {
        "id": "Sd7RtbCaNKMa",
        "colab_type": "code",
        "colab": {
          "base_uri": "https://localhost:8080/",
          "height": 34
        },
        "outputId": "691d74f9-c9e9-4559-b452-13c579ebc16c"
      },
      "source": [
        "delta_y = (lambda_ * D) / d\n",
        "print(round(delta_y,4))"
      ],
      "execution_count": 9,
      "outputs": [
        {
          "output_type": "stream",
          "text": [
            "0.005\n"
          ],
          "name": "stdout"
        }
      ]
    }
  ]
}