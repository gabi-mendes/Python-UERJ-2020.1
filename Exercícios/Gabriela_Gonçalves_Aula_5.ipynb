{
  "nbformat": 4,
  "nbformat_minor": 0,
  "metadata": {
    "colab": {
      "name": "Gabriela_Gonçalves_Aula_5.ipynb",
      "provenance": [],
      "include_colab_link": true
    },
    "kernelspec": {
      "name": "python3",
      "display_name": "Python 3"
    }
  },
  "cells": [
    {
      "cell_type": "markdown",
      "metadata": {
        "id": "view-in-github",
        "colab_type": "text"
      },
      "source": [
        "<a href=\"https://colab.research.google.com/github/gabi-mendes/Python-UERJ-2020.1/blob/master/Exerc%C3%ADcios/Gabriela_Gon%C3%A7alves_Aula_5.ipynb\" target=\"_parent\"><img src=\"https://colab.research.google.com/assets/colab-badge.svg\" alt=\"Open In Colab\"/></a>"
      ]
    },
    {
      "cell_type": "markdown",
      "metadata": {
        "id": "vxTnULOBDPcq"
      },
      "source": [
        "## Exercício 2\n",
        "\n",
        "Faça modificações similares para permitir que o usuário mude a cor da tartaruga durante a execução do programa.\n",
        "\n",
        "Faça o mesmo para a largura da caneta da tartaruga. Dica: seu diálogo com o usuário retornará uma string, mas o método pensize ( width no Google Colab) espera que seu argumento seja um int. Então, você precisará converter a string em um int antes de passá-la para pensize."
      ]
    },
    {
      "cell_type": "code",
      "metadata": {
        "id": "W1AApUqjCjQn",
        "outputId": "19ddcd8f-e7d2-4b4a-c55a-df1d20382d22",
        "colab": {
          "base_uri": "https://localhost:8080/"
        }
      },
      "source": [
        "!pip3 install ColabTurtle"
      ],
      "execution_count": null,
      "outputs": [
        {
          "output_type": "stream",
          "text": [
            "Requirement already satisfied: ColabTurtle in /usr/local/lib/python3.6/dist-packages (2.0.0)\n"
          ],
          "name": "stdout"
        }
      ]
    },
    {
      "cell_type": "code",
      "metadata": {
        "id": "VTquxMUG4AWc"
      },
      "source": [
        "import ColabTurtle.Turtle"
      ],
      "execution_count": null,
      "outputs": []
    },
    {
      "cell_type": "code",
      "metadata": {
        "id": "8b8P2P0WDH8g",
        "outputId": "0bb2ef3c-92f9-41cc-a5eb-da421aebbae9",
        "colab": {
          "base_uri": "https://localhost:8080/",
          "height": 521
        }
      },
      "source": [
        "t = ColabTurtle.Turtle\n",
        "t.initializeTurtle()\n",
        "\n",
        "# cor = input(\"Cor: \")\n",
        "cor = \"red\"\n",
        "t.color(cor)\n",
        "\n",
        "# pensize = int(input(\"Tamanho: \"))\n",
        "pensize = 10\n",
        "t.width(pensize)\n",
        "\n",
        "t.forward(90)"
      ],
      "execution_count": null,
      "outputs": [
        {
          "output_type": "display_data",
          "data": {
            "text/html": [
              "\n",
              "      <svg width=\"800\" height=\"500\">\n",
              "        <rect width=\"100%\" height=\"100%\" fill=\"black\"/>\n",
              "        <line x1=\"400\" y1=\"250\" x2=\"400.0\" y2=\"160.0\" stroke-linecap=\"round\" style=\"stroke:red;stroke-width:10\"/>\n",
              "        \n",
              "      <g visibility=visible transform=\"rotate(180,400.0,160.0) translate(400.0, 160.0)\">\n",
              "        <circle stroke=\"red\" stroke-width=\"3\" fill=\"transparent\" r=\"12\" cx=\"0\" cy=\"0\"/>\n",
              "        <polygon points=\"0,19 3,16 -3,16\" style=\"fill:red;stroke:red;stroke-width:2\"/>\n",
              "      </g>\n",
              "    \n",
              "      </svg>\n",
              "    "
            ],
            "text/plain": [
              "<IPython.core.display.HTML object>"
            ]
          },
          "metadata": {
            "tags": []
          }
        }
      ]
    },
    {
      "cell_type": "markdown",
      "metadata": {
        "id": "9BTd01Ro2euy"
      },
      "source": [
        "# Exercício 3\n",
        "\n",
        "Investiguem os métodos e atributos do módulo turtle (ColabTurtle no Google Colab)."
      ]
    },
    {
      "cell_type": "code",
      "metadata": {
        "id": "Mgp_5N5M3wP1",
        "outputId": "a1d14ebd-f296-4d5f-ffe3-2f7e9fe92516",
        "colab": {
          "base_uri": "https://localhost:8080/"
        }
      },
      "source": [
        "help(ColabTurtle.Turtle)"
      ],
      "execution_count": null,
      "outputs": [
        {
          "output_type": "stream",
          "text": [
            "Help on module ColabTurtle.Turtle in ColabTurtle:\n",
            "\n",
            "NAME\n",
            "    ColabTurtle.Turtle\n",
            "\n",
            "FUNCTIONS\n",
            "    backward(units)\n",
            "        # makes the turtle move backward by 'units' units\n",
            "    \n",
            "    bgcolor(color)\n",
            "        # change the background color of the drawing area; valid colors are defined at VALID_COLORS\n",
            "    \n",
            "    color(color)\n",
            "        # change the color of the pen; valid colors are defined at VALID_COLORS\n",
            "    \n",
            "    forward(units)\n",
            "        # makes the turtle move forward by 'units' units\n",
            "    \n",
            "    goto(x, y)\n",
            "        # move the turtle to a designated 'x'-'y' coordinate\n",
            "    \n",
            "    hideturtle()\n",
            "        # switch turtle visibility to ON\n",
            "    \n",
            "    initializeTurtle(initial_speed=4, initial_window_size=(800, 500))\n",
            "        # construct the display for turtle\n",
            "    \n",
            "    left(degrees)\n",
            "        # makes the turtle move right by 'degrees' degrees (NOT radians)\n",
            "    \n",
            "    pendown()\n",
            "        # lowers the pen such that following turtle moves will now cause drawings\n",
            "    \n",
            "    penup()\n",
            "        # raises the pen such that following turtle moves will not cause any drawings\n",
            "    \n",
            "    right(degrees)\n",
            "        # makes the turtle move right by 'degrees' degrees (NOT radians)\n",
            "    \n",
            "    setx(x)\n",
            "        # move the turtle to a designated 'x' x-coordinate, y-coordinate stays the same\n",
            "    \n",
            "    sety(y)\n",
            "        # move the turtle to a designated 'y' y-coordinate, x-coordinate stays the same\n",
            "    \n",
            "    showturtle()\n",
            "        # switch turtle visibility to ON\n",
            "    \n",
            "    speed(speed)\n",
            "        # update the speed of the moves, [1,10]\n",
            "    \n",
            "    width(width)\n",
            "        # change the width of the lines drawn by the turtle, in pixels\n",
            "\n",
            "DATA\n",
            "    DEFAULT_BACKGROUND_COLOR = 'black'\n",
            "    DEFAULT_IS_PEN_DOWN = True\n",
            "    DEFAULT_PEN_COLOR = 'white'\n",
            "    DEFAULT_PEN_WIDTH = 4\n",
            "    DEFAULT_SPEED = 4\n",
            "    DEFAULT_SVG_LINES_STRING = ''\n",
            "    DEFAULT_TURTLE_DEGREE = 270\n",
            "    DEFAULT_TURTLE_VISIBILITY = True\n",
            "    DEFAULT_WINDOW_SIZE = (800, 500)\n",
            "    SPEED_TO_SEC_MAP = {1: 1.5, 2: 0.9, 3: 0.7, 4: 0.5, 5: 0.3, 6: 0.18, 7...\n",
            "    SVG_TEMPLATE = '\\n      <svg width=\"{window_width}\" height=\"{wind...  ...\n",
            "    TURTLE_SVG_TEMPLATE = '\\n      <g visibility={visibility} transform=\"r...\n",
            "    VALID_COLORS = ('white', 'yellow', 'orange', 'red', 'green', 'blue', '...\n",
            "    background_color = 'black'\n",
            "    drawing_window = <DisplayHandle display_id=906562071ab4cb485e2c2fdd5b3...\n",
            "    is_pen_down = True\n",
            "    is_turtle_visible = True\n",
            "    pen_color = 'red'\n",
            "    pen_width = 10\n",
            "    svg_lines_string = '<line x1=\"400\" y1=\"250\" x2=\"400.0\" y2=\"160.0\" st.....\n",
            "    timeout = 0.5\n",
            "    turtle_degree = 270\n",
            "    turtle_pos = (400.0, 160.0)\n",
            "    window_size = (800, 500)\n",
            "\n",
            "FILE\n",
            "    /usr/local/lib/python3.6/dist-packages/ColabTurtle/Turtle.py\n",
            "\n",
            "\n"
          ],
          "name": "stdout"
        }
      ]
    },
    {
      "cell_type": "markdown",
      "metadata": {
        "id": "ve9S9bnH2g2n"
      },
      "source": [
        "# Exercício 4\n",
        "\n",
        "Desenhe um quadrado, usando a forma de tartaruga, ao invés da flecha, para desenhar (caso esteja no Google Colab, não precisa mudar a forma).\n",
        "\n",
        "Mude a velocidade com que a tartaruga faz o desenho."
      ]
    },
    {
      "cell_type": "code",
      "metadata": {
        "id": "DnWzFQjw4YeA",
        "outputId": "8d803fc7-7cbc-4617-fdb5-9cb5ee4c2318",
        "colab": {
          "base_uri": "https://localhost:8080/",
          "height": 521
        }
      },
      "source": [
        "t.initializeTurtle()\n",
        "t.speed(10)\n",
        "\n",
        "for i in range(4):\n",
        "    t.forward(100)\n",
        "    t.left(90)"
      ],
      "execution_count": null,
      "outputs": [
        {
          "output_type": "display_data",
          "data": {
            "text/html": [
              "\n",
              "      <svg width=\"800\" height=\"500\">\n",
              "        <rect width=\"100%\" height=\"100%\" fill=\"black\"/>\n",
              "        <line x1=\"400\" y1=\"250\" x2=\"400.0\" y2=\"150.0\" stroke-linecap=\"round\" style=\"stroke:white;stroke-width:4\"/><line x1=\"400.0\" y1=\"150.0\" x2=\"300.0\" y2=\"150.0\" stroke-linecap=\"round\" style=\"stroke:white;stroke-width:4\"/><line x1=\"300.0\" y1=\"150.0\" x2=\"300.0\" y2=\"250.0\" stroke-linecap=\"round\" style=\"stroke:white;stroke-width:4\"/><line x1=\"300.0\" y1=\"250.0\" x2=\"400.0\" y2=\"250.0\" stroke-linecap=\"round\" style=\"stroke:white;stroke-width:4\"/>\n",
              "        \n",
              "      <g visibility=visible transform=\"rotate(180,400.0,250.0) translate(400.0, 250.0)\">\n",
              "        <circle stroke=\"white\" stroke-width=\"3\" fill=\"transparent\" r=\"12\" cx=\"0\" cy=\"0\"/>\n",
              "        <polygon points=\"0,19 3,16 -3,16\" style=\"fill:white;stroke:white;stroke-width:2\"/>\n",
              "      </g>\n",
              "    \n",
              "      </svg>\n",
              "    "
            ],
            "text/plain": [
              "<IPython.core.display.HTML object>"
            ]
          },
          "metadata": {
            "tags": []
          }
        }
      ]
    },
    {
      "cell_type": "markdown",
      "metadata": {
        "id": "HXojNJbZ2kbf"
      },
      "source": [
        "# Exercício 5\n",
        "\n",
        "Sabendo que o ângulo interno da ponta de uma estrela de 5 pontas é de 36 graus, desenhe uma estrela."
      ]
    },
    {
      "cell_type": "code",
      "metadata": {
        "id": "kU0sM82k4rg8",
        "outputId": "7fcbc254-8a9d-4568-d6e7-ee0deb80bdc4",
        "colab": {
          "base_uri": "https://localhost:8080/",
          "height": 521
        }
      },
      "source": [
        "def estrela(t, tamanho):\n",
        "    t.left(90)\n",
        "\n",
        "    for i in range(5):\n",
        "        t.forward(tamanho)\n",
        "        t.left(180 - 36)\n",
        "\n",
        "t.initializeTurtle()\n",
        "t.speed(10)\n",
        "\n",
        "estrela(t, 100)"
      ],
      "execution_count": null,
      "outputs": [
        {
          "output_type": "display_data",
          "data": {
            "text/html": [
              "\n",
              "      <svg width=\"800\" height=\"500\">\n",
              "        <rect width=\"100%\" height=\"100%\" fill=\"black\"/>\n",
              "        <line x1=\"400\" y1=\"250\" x2=\"300.0\" y2=\"250.0\" stroke-linecap=\"round\" style=\"stroke:white;stroke-width:4\"/><line x1=\"300.0\" y1=\"250.0\" x2=\"380.90169943749476\" y2=\"308.7785252292473\" stroke-linecap=\"round\" style=\"stroke:white;stroke-width:4\"/><line x1=\"380.90169943749476\" y1=\"308.7785252292473\" x2=\"350.0\" y2=\"213.67287359973193\" stroke-linecap=\"round\" style=\"stroke:white;stroke-width:4\"/><line x1=\"350.0\" y1=\"213.67287359973193\" x2=\"319.09830056250524\" y2=\"308.7785252292473\" stroke-linecap=\"round\" style=\"stroke:white;stroke-width:4\"/><line x1=\"319.09830056250524\" y1=\"308.7785252292473\" x2=\"400.0\" y2=\"249.99999999999994\" stroke-linecap=\"round\" style=\"stroke:white;stroke-width:4\"/>\n",
              "        \n",
              "      <g visibility=visible transform=\"rotate(90,400.0,249.99999999999994) translate(400.0, 249.99999999999994)\">\n",
              "        <circle stroke=\"white\" stroke-width=\"3\" fill=\"transparent\" r=\"12\" cx=\"0\" cy=\"0\"/>\n",
              "        <polygon points=\"0,19 3,16 -3,16\" style=\"fill:white;stroke:white;stroke-width:2\"/>\n",
              "      </g>\n",
              "    \n",
              "      </svg>\n",
              "    "
            ],
            "text/plain": [
              "<IPython.core.display.HTML object>"
            ]
          },
          "metadata": {
            "tags": []
          }
        }
      ]
    },
    {
      "cell_type": "markdown",
      "metadata": {
        "id": "06P5Mhfj2mTv"
      },
      "source": [
        "# Exercício 6\n",
        "\n",
        "Sabendo o ângulo interno da ponta de uma estrela, desenhe quatro estrelas em uma janela, com uma certa distância entre elas. Dica: use a função penup() e pendown() do módulo turtle."
      ]
    },
    {
      "cell_type": "code",
      "metadata": {
        "id": "Xop5YYeb5Jx6",
        "outputId": "c488f5a6-ee9d-498f-f78f-48b0414a11db",
        "colab": {
          "base_uri": "https://localhost:8080/",
          "height": 521
        }
      },
      "source": [
        "t.initializeTurtle()\n",
        "t.speed(10)\n",
        "\n",
        "for i in range(4):\n",
        "    estrela(t, 100)\n",
        "\n",
        "    t.penup()\n",
        "\n",
        "    t.right(90)\n",
        "    t.forward(120)\n",
        "    t.left(90)\n",
        "\n",
        "    t.pendown()"
      ],
      "execution_count": null,
      "outputs": [
        {
          "output_type": "display_data",
          "data": {
            "text/html": [
              "\n",
              "      <svg width=\"800\" height=\"500\">\n",
              "        <rect width=\"100%\" height=\"100%\" fill=\"black\"/>\n",
              "        <line x1=\"400\" y1=\"250\" x2=\"300.0\" y2=\"250.0\" stroke-linecap=\"round\" style=\"stroke:white;stroke-width:4\"/><line x1=\"300.0\" y1=\"250.0\" x2=\"380.90169943749476\" y2=\"308.7785252292473\" stroke-linecap=\"round\" style=\"stroke:white;stroke-width:4\"/><line x1=\"380.90169943749476\" y1=\"308.7785252292473\" x2=\"350.0\" y2=\"213.67287359973193\" stroke-linecap=\"round\" style=\"stroke:white;stroke-width:4\"/><line x1=\"350.0\" y1=\"213.67287359973193\" x2=\"319.09830056250524\" y2=\"308.7785252292473\" stroke-linecap=\"round\" style=\"stroke:white;stroke-width:4\"/><line x1=\"319.09830056250524\" y1=\"308.7785252292473\" x2=\"400.0\" y2=\"249.99999999999994\" stroke-linecap=\"round\" style=\"stroke:white;stroke-width:4\"/><line x1=\"400.0\" y1=\"129.99999999999994\" x2=\"400.0\" y2=\"229.99999999999994\" stroke-linecap=\"round\" style=\"stroke:white;stroke-width:4\"/><line x1=\"400.0\" y1=\"229.99999999999994\" x2=\"458.7785252292473\" y2=\"149.0983005625052\" stroke-linecap=\"round\" style=\"stroke:white;stroke-width:4\"/><line x1=\"458.7785252292473\" y1=\"149.0983005625052\" x2=\"363.67287359973193\" y2=\"179.99999999999994\" stroke-linecap=\"round\" style=\"stroke:white;stroke-width:4\"/><line x1=\"363.67287359973193\" y1=\"179.99999999999994\" x2=\"458.7785252292473\" y2=\"210.90169943749467\" stroke-linecap=\"round\" style=\"stroke:white;stroke-width:4\"/><line x1=\"458.7785252292473\" y1=\"210.90169943749467\" x2=\"400.0\" y2=\"129.99999999999994\" stroke-linecap=\"round\" style=\"stroke:white;stroke-width:4\"/><line x1=\"280.0\" y1=\"129.99999999999997\" x2=\"380.0\" y2=\"129.99999999999997\" stroke-linecap=\"round\" style=\"stroke:white;stroke-width:4\"/><line x1=\"380.0\" y1=\"129.99999999999997\" x2=\"299.09830056250524\" y2=\"71.22147477075268\" stroke-linecap=\"round\" style=\"stroke:white;stroke-width:4\"/><line x1=\"299.09830056250524\" y1=\"71.22147477075268\" x2=\"330.0\" y2=\"166.327126400268\" stroke-linecap=\"round\" style=\"stroke:white;stroke-width:4\"/><line x1=\"330.0\" y1=\"166.327126400268\" x2=\"360.9016994374947\" y2=\"71.22147477075265\" stroke-linecap=\"round\" style=\"stroke:white;stroke-width:4\"/><line x1=\"360.9016994374947\" y1=\"71.22147477075265\" x2=\"280.0\" y2=\"129.99999999999997\" stroke-linecap=\"round\" style=\"stroke:white;stroke-width:4\"/><line x1=\"280.0\" y1=\"249.99999999999997\" x2=\"280.0\" y2=\"149.99999999999997\" stroke-linecap=\"round\" style=\"stroke:white;stroke-width:4\"/><line x1=\"280.0\" y1=\"149.99999999999997\" x2=\"221.2214747707527\" y2=\"230.9016994374947\" stroke-linecap=\"round\" style=\"stroke:white;stroke-width:4\"/><line x1=\"221.2214747707527\" y1=\"230.9016994374947\" x2=\"316.32712640026807\" y2=\"199.99999999999994\" stroke-linecap=\"round\" style=\"stroke:white;stroke-width:4\"/><line x1=\"316.32712640026807\" y1=\"199.99999999999994\" x2=\"221.2214747707527\" y2=\"169.09830056250522\" stroke-linecap=\"round\" style=\"stroke:white;stroke-width:4\"/><line x1=\"221.2214747707527\" y1=\"169.09830056250522\" x2=\"280.0\" y2=\"249.99999999999994\" stroke-linecap=\"round\" style=\"stroke:white;stroke-width:4\"/>\n",
              "        \n",
              "      <g visibility=visible transform=\"rotate(180,400.0,249.99999999999994) translate(400.0, 249.99999999999994)\">\n",
              "        <circle stroke=\"white\" stroke-width=\"3\" fill=\"transparent\" r=\"12\" cx=\"0\" cy=\"0\"/>\n",
              "        <polygon points=\"0,19 3,16 -3,16\" style=\"fill:white;stroke:white;stroke-width:2\"/>\n",
              "      </g>\n",
              "    \n",
              "      </svg>\n",
              "    "
            ],
            "text/plain": [
              "<IPython.core.display.HTML object>"
            ]
          },
          "metadata": {
            "tags": []
          }
        }
      ]
    }
  ]
}