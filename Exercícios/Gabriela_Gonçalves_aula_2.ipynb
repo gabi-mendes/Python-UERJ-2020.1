{
  "nbformat": 4,
  "nbformat_minor": 0,
  "metadata": {
    "colab": {
      "name": "Gabriela_Gonçalves_aula_2_3.ipynb",
      "provenance": [],
      "authorship_tag": "ABX9TyMKG9Sb+uTQJs1j8L1z2dsI",
      "include_colab_link": true
    },
    "kernelspec": {
      "name": "python3",
      "display_name": "Python 3"
    }
  },
  "cells": [
    {
      "cell_type": "markdown",
      "metadata": {
        "id": "view-in-github",
        "colab_type": "text"
      },
      "source": [
        "<a href=\"https://colab.research.google.com/github/gabi-mendes/Python-UERJ-2020.1/blob/master/Exerc%C3%ADcios/Gabriela_Gon%C3%A7alves_aula_2_3.ipynb\" target=\"_parent\"><img src=\"https://colab.research.google.com/assets/colab-badge.svg\" alt=\"Open In Colab\"/></a>"
      ]
    },
    {
      "cell_type": "markdown",
      "metadata": {
        "id": "b9K1zlY0JxlZ",
        "colab_type": "text"
      },
      "source": [
        "**Aula 2**\n",
        "\n",
        "**Exercício 3)** Se você fizer uma corrida de 10 quilômetros em 43 minutos e 30 segundos, qual será seu tempo médio por milha? Qual é a sua velocidade média em milhas por hora? (Dica: há 1,61 quilômetros em uma milha)."
      ]
    },
    {
      "cell_type": "markdown",
      "metadata": {
        "id": "u44yk6TEKry3",
        "colab_type": "text"
      },
      "source": [
        "*distancia* é a variável correspondente a distância total da corrida de 10 quilômetros."
      ]
    },
    {
      "cell_type": "code",
      "metadata": {
        "id": "wbR3LTHGI2cw",
        "colab_type": "code",
        "colab": {}
      },
      "source": [
        "distancia = 10"
      ],
      "execution_count": 1,
      "outputs": []
    },
    {
      "cell_type": "markdown",
      "metadata": {
        "id": "UJQOg2PXK_NS",
        "colab_type": "text"
      },
      "source": [
        "Convertendo *distancia* para milhas."
      ]
    },
    {
      "cell_type": "code",
      "metadata": {
        "id": "OaW4b6stLXhx",
        "colab_type": "code",
        "colab": {
          "base_uri": "https://localhost:8080/",
          "height": 34
        },
        "outputId": "e5b9aa41-4311-4928-fa5b-7ec7f6539598"
      },
      "source": [
        "distancia = distancia / 1.61\n",
        "print(distancia, \"milhas\")"
      ],
      "execution_count": 2,
      "outputs": [
        {
          "output_type": "stream",
          "text": [
            "6.211180124223602 milhas\n"
          ],
          "name": "stdout"
        }
      ]
    },
    {
      "cell_type": "markdown",
      "metadata": {
        "id": "YUm8kM5CLsDr",
        "colab_type": "text"
      },
      "source": [
        "Convertendo o tempo *t* para hora."
      ]
    },
    {
      "cell_type": "code",
      "metadata": {
        "id": "mSe_1W4TL24I",
        "colab_type": "code",
        "colab": {
          "base_uri": "https://localhost:8080/",
          "height": 34
        },
        "outputId": "33395480-68ad-45f0-d675-963c9b824496"
      },
      "source": [
        "t = 43.5 / 60\n",
        "print(t,\"horas\")"
      ],
      "execution_count": 3,
      "outputs": [
        {
          "output_type": "stream",
          "text": [
            "0.725 horas\n"
          ],
          "name": "stdout"
        }
      ]
    },
    {
      "cell_type": "markdown",
      "metadata": {
        "id": "9uR1U6XXMCPI",
        "colab_type": "text"
      },
      "source": [
        "Determinando o tempo médio *T* por milha em hora."
      ]
    },
    {
      "cell_type": "code",
      "metadata": {
        "id": "SIV6idmWMoac",
        "colab_type": "code",
        "colab": {
          "base_uri": "https://localhost:8080/",
          "height": 34
        },
        "outputId": "f2642cf7-c8e9-4836-88ec-8179f8c98e52"
      },
      "source": [
        "T = t / distancia\n",
        "print(T, \"horas por milha\")"
      ],
      "execution_count": 4,
      "outputs": [
        {
          "output_type": "stream",
          "text": [
            "0.11672500000000001 horas por milha\n"
          ],
          "name": "stdout"
        }
      ]
    },
    {
      "cell_type": "markdown",
      "metadata": {
        "id": "9IWG7EgoM83y",
        "colab_type": "text"
      },
      "source": [
        "Determinando a velocidade média *v* em milhas por hora."
      ]
    },
    {
      "cell_type": "code",
      "metadata": {
        "id": "5EDwz1rGM7Fb",
        "colab_type": "code",
        "colab": {
          "base_uri": "https://localhost:8080/",
          "height": 34
        },
        "outputId": "d2fe214d-5b7e-41e4-becc-8e3efd9fcb4f"
      },
      "source": [
        "v = distancia / t\n",
        "print(v, \"milhas por hora\")"
      ],
      "execution_count": 5,
      "outputs": [
        {
          "output_type": "stream",
          "text": [
            "8.567144998929106 milhas por hora\n"
          ],
          "name": "stdout"
        }
      ]
    }
  ]
}
