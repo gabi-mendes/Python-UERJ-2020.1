{
  "nbformat": 4,
  "nbformat_minor": 0,
  "metadata": {
    "colab": {
      "name": "Gabriela_Gonçalves_Aula_9_e_10.ipynb",
      "provenance": [],
      "toc_visible": true,
      "authorship_tag": "ABX9TyOiQHOOqP4mZkk/0Xaw1Eq0",
      "include_colab_link": true
    },
    "kernelspec": {
      "name": "python3",
      "display_name": "Python 3"
    }
  },
  "cells": [
    {
      "cell_type": "markdown",
      "metadata": {
        "id": "view-in-github",
        "colab_type": "text"
      },
      "source": [
        "<a href=\"https://colab.research.google.com/github/gabi-mendes/Python-UERJ-2020.1/blob/master/Exerc%C3%ADcios/Gabriela_Gon%C3%A7alves_Aula_9_e_10.ipynb\" target=\"_parent\"><img src=\"https://colab.research.google.com/assets/colab-badge.svg\" alt=\"Open In Colab\"/></a>"
      ]
    },
    {
      "cell_type": "markdown",
      "metadata": {
        "id": "sey9FksFUCE8"
      },
      "source": [
        "# Aula 9"
      ]
    },
    {
      "cell_type": "markdown",
      "metadata": {
        "id": "_6pmyml1UFwv"
      },
      "source": [
        "## Exercício 1\n",
        "\n",
        "Utilizando um arquivo de dados com várias colunas (por exemplo, o arquivo dados_alunos.txt), faça um histograma com os dados de cada uma das colunas. Dica: utilize o matplotlib para fazer os histogramas."
      ]
    },
    {
      "cell_type": "code",
      "metadata": {
        "id": "GFBeuwBRUmPR"
      },
      "source": [
        ""
      ],
      "execution_count": null,
      "outputs": []
    },
    {
      "cell_type": "markdown",
      "metadata": {
        "id": "D8jnjRoAUKSi"
      },
      "source": [
        "## Exercício 2\n",
        "\n",
        "Estude os métodos do módulo os e faça um script que liste todos os arquivos de um dado diretório assim como de seus subdiretórios. Dica: use o método walk."
      ]
    },
    {
      "cell_type": "code",
      "metadata": {
        "id": "ScrLvA9DXsZl",
        "outputId": "857bfada-6f78-4905-960c-8b72e482cd26",
        "colab": {
          "base_uri": "https://localhost:8080/"
        }
      },
      "source": [
        "import os\n",
        "\n",
        "path = \".\"\n",
        "\n",
        "dirs = []\n",
        "for dir in os.walk(path):\n",
        "    dirs.append(dir)\n",
        "\n",
        "print(dir)"
      ],
      "execution_count": null,
      "outputs": [
        {
          "output_type": "stream",
          "text": [
            "('./sample_data', [], ['README.md', 'anscombe.json', 'california_housing_train.csv', 'mnist_train_small.csv', 'mnist_test.csv', 'california_housing_test.csv'])\n"
          ],
          "name": "stdout"
        }
      ]
    },
    {
      "cell_type": "markdown",
      "metadata": {
        "id": "Zs8xQi2CUKaZ"
      },
      "source": [
        "## Exercício 3\n",
        "\n",
        "Reescreva o script dessa aula, lcount.py na forma de uma módulo. Qual o valor da variável __name__ quando o módulo é importado?"
      ]
    },
    {
      "cell_type": "code",
      "metadata": {
        "id": "7Cg8u4KEXsD6",
        "outputId": "6e3117ff-319e-4f49-fdf7-5d7f97dcddec",
        "colab": {
          "base_uri": "https://localhost:8080/"
        }
      },
      "source": [
        "%%writefile lcount.py\n",
        "\n",
        "def linecount(filename):\n",
        "    count = 0\n",
        "    for line in open(filename):\n",
        "        count += 1\n",
        "    return count\n",
        "\n",
        "linecount('lcount.py')"
      ],
      "execution_count": null,
      "outputs": [
        {
          "output_type": "stream",
          "text": [
            "Writing lcount.py\n"
          ],
          "name": "stdout"
        }
      ]
    },
    {
      "cell_type": "code",
      "metadata": {
        "id": "4LJPjfxgZAC_",
        "outputId": "5fc287f9-661a-408c-d235-0217c801eb59",
        "colab": {
          "base_uri": "https://localhost:8080/"
        }
      },
      "source": [
        "from lcount import linecount\n",
        "\n",
        "print(__name__)"
      ],
      "execution_count": null,
      "outputs": [
        {
          "output_type": "stream",
          "text": [
            "__main__\n"
          ],
          "name": "stdout"
        }
      ]
    },
    {
      "cell_type": "markdown",
      "metadata": {
        "id": "gcutqd29UKtT"
      },
      "source": [
        "## Exercício 4\n",
        "\n",
        "Escreva uma função chamada ler_arquivos que tome como argumento um nome de arquivo, leia um arquivo com um número qualquer de colunas e retorne um dicionário que tenha como keys os números das colunas e como valor uma lista dos valores associados a cada coluna do arquivo. Use o arquivo dados_alunos.txt. Caso o arquivo tiver o cabeçalho das colunas, p.ex. dados_alunos_cabecalho.txt, a key deve ser a palavra do cabeçalho.\n",
        "\n",
        "Caso não queria usar dicionários, você pode pensar em uma estrutura de dados alternativa para armazenar os dados do arquivo, como por exemplo uma ou mais listas.\n",
        "\n",
        "Também pode usar funções já existentes nos módulos de Python numpy ou pandas para ler arquivos de texto e armazenar nas estruturas desses módulos (DataFrames ou arrays).\n",
        "\n",
        "Adapte a função acima para, se ocorrer um erro ao abrir, ler ou fechar arquivos, o programa capturar a exceção, imprimir uma mensagem de erro e sair."
      ]
    },
    {
      "cell_type": "code",
      "metadata": {
        "id": "JaJHVIg4Xra9"
      },
      "source": [
        "def ler_arquivo(arquivo, sep=\",\"):\n",
        "    \"\"\"\n",
        "    Retorna um dicionário com os valores das colunas de um arquivo.\n",
        "\n",
        "    :param arquivo: Path do arquivo.\n",
        "    :param sep: Separador dos dados do arquivo.\n",
        "    \"\"\"\n",
        "    try:\n",
        "        with open(arquivo, \"r\") as file:     \n",
        "            data = {}\n",
        "            columns = []\n",
        "            if \"cabecalho\" in arquivo:\n",
        "                for column_name in file.readline().strip().split(sep):\n",
        "                    columns.append(column_name)\n",
        "                    data[column_name] = []\n",
        "\n",
        "            else:\n",
        "                for column_name in range(len(file.readline().strip().split(sep))):\n",
        "                    column_name.append(column_name)\n",
        "                    data[column_name] = []\n",
        "\n",
        "            for line in file.readlines():\n",
        "                i = 0\n",
        "                for value in line.strip().split(sep):\n",
        "                    data[columns[i]] += [value]\n",
        "                    i += 1\n",
        "\n",
        "            return data\n",
        "    \n",
        "    except Exception as e:\n",
        "        print(e)"
      ],
      "execution_count": null,
      "outputs": []
    },
    {
      "cell_type": "code",
      "metadata": {
        "id": "SNHYy43zluNX",
        "outputId": "867e3c0f-088c-4d27-cb1c-ef71cb4e8bf0",
        "colab": {
          "base_uri": "https://localhost:8080/"
        }
      },
      "source": [
        "ler_arquivo(\"dados_alunos_cabecalho.txt\")"
      ],
      "execution_count": null,
      "outputs": [
        {
          "output_type": "execute_result",
          "data": {
            "text/plain": [
              "{'A(m)': ['1.68',\n",
              "  '1.94',\n",
              "  '1.7',\n",
              "  '1.76',\n",
              "  '1.73',\n",
              "  '1.66',\n",
              "  '1.8',\n",
              "  '1.6',\n",
              "  '1.67',\n",
              "  '1.73'],\n",
              " 'I(a)': ['18', '18', '18', '18', '19', '18', '21', '18', '18', '18'],\n",
              " 'M(Kg)': ['80', '60', '80', '66', '87.5', '58', '92', '57', '64', '57']}"
            ]
          },
          "metadata": {
            "tags": []
          },
          "execution_count": 48
        }
      ]
    },
    {
      "cell_type": "markdown",
      "metadata": {
        "id": "iKF_ItoNUK0j"
      },
      "source": [
        "## Exercício 5\n",
        "\n",
        "Adapte o script acima para ser um módulo."
      ]
    },
    {
      "cell_type": "code",
      "metadata": {
        "id": "zhyHK3GoXrLh",
        "outputId": "3868c2b0-1561-4b47-b5cb-3ec245d04395",
        "colab": {
          "base_uri": "https://localhost:8080/"
        }
      },
      "source": [
        "%%writefile arquivo.py\n",
        "\n",
        "def ler_arquivo(arquivo, sep=\",\"):\n",
        "    \"\"\"\n",
        "    Retorna um dicionário com os valores das colunas de um arquivo.\n",
        "\n",
        "    :param arquivo: Path do arquivo.\n",
        "    :param sep: Separador dos dados do arquivo.\n",
        "    \"\"\"\n",
        "    try:\n",
        "        with open(arquivo, \"r\") as file:     \n",
        "            data = {}\n",
        "            columns = []\n",
        "            if \"cabecalho\" in arquivo:\n",
        "                for column_name in file.readline().strip().split(sep):\n",
        "                    columns.append(column_name)\n",
        "                    data[column_name] = []\n",
        "\n",
        "            else:\n",
        "                for column_name in range(len(file.readline().strip().split(sep))):\n",
        "                    column_name.append(column_name)\n",
        "                    data[column_name] = []\n",
        "\n",
        "            for line in file.readlines():\n",
        "                i = 0\n",
        "                for value in line.strip().split(sep):\n",
        "                    data[columns[i]] += [value]\n",
        "                    i += 1\n",
        "\n",
        "            return data\n",
        "    \n",
        "    except Exception as e:\n",
        "        print(e)"
      ],
      "execution_count": null,
      "outputs": [
        {
          "output_type": "stream",
          "text": [
            "Writing arquivo.py\n"
          ],
          "name": "stdout"
        }
      ]
    },
    {
      "cell_type": "markdown",
      "metadata": {
        "id": "ZeckJSu8UK6x"
      },
      "source": [
        "## Exercício 6\n",
        "\n",
        "Escreva um script que importe o módulo criado acima e faça um histograma para cada coluna do arquivo, com seus respectivos valores. Use o dicionário ou a estrutura de dados criada em 1)."
      ]
    },
    {
      "cell_type": "code",
      "metadata": {
        "id": "WHPcpRGTXqzP"
      },
      "source": [
        ""
      ],
      "execution_count": null,
      "outputs": []
    },
    {
      "cell_type": "markdown",
      "metadata": {
        "id": "ozGRXQbfULAa"
      },
      "source": [
        "## Exercício 7\n",
        "\n",
        "Adicione uma função ao script criado em 6), que calcule o desvio padrão amostral, desvio padrão populacional e média de cada distribuição representada nos histogramas acima. Para tal, use o módulo statistics do Python ou outro módulo de Python (numpy, scipy)."
      ]
    },
    {
      "cell_type": "code",
      "metadata": {
        "id": "GeihTe_NT2jL"
      },
      "source": [
        ""
      ],
      "execution_count": null,
      "outputs": []
    },
    {
      "cell_type": "markdown",
      "metadata": {
        "id": "PqTY_-LeUCXR"
      },
      "source": [
        "# Aula 10"
      ]
    },
    {
      "cell_type": "markdown",
      "metadata": {
        "id": "4k6JU4SqPprv"
      },
      "source": [
        "## Exercício 1\n",
        "\n",
        "Quantos intervalos (ou qual largura de intervalo) é preciso implementar para ter uma precisão de 1% no resultado numérico na integração de $f(x)$ de 0 a 10?\n",
        "\n",
        "$\\dfrac{R_{num}-R_{an}}{R_{an}} \\leq 10\\% $"
      ]
    },
    {
      "cell_type": "code",
      "metadata": {
        "id": "ZV13IQOLQFT9"
      },
      "source": [
        ""
      ],
      "execution_count": null,
      "outputs": []
    },
    {
      "cell_type": "markdown",
      "metadata": {
        "id": "OEYvRVP8Pu7l"
      },
      "source": [
        "## Exercício 2\n",
        "\n",
        "Faça a integração numérica pela esquerda da mesma função. Compare o resultado com a integração pela direita."
      ]
    },
    {
      "cell_type": "code",
      "metadata": {
        "id": "yR4xArtbQFjA"
      },
      "source": [
        ""
      ],
      "execution_count": null,
      "outputs": []
    },
    {
      "cell_type": "markdown",
      "metadata": {
        "id": "dWTQeVtZPvC1"
      },
      "source": [
        "## Exercício 3\n",
        "\n",
        "Faça a integração por trapézios. Lembre que a área de um trapézio é dada por: $A=\\frac{(a + b)h}{2}$\n",
        "\n"
      ]
    },
    {
      "cell_type": "code",
      "metadata": {
        "id": "tfH1Y1ayQF-E"
      },
      "source": [
        ""
      ],
      "execution_count": null,
      "outputs": []
    },
    {
      "cell_type": "markdown",
      "metadata": {
        "id": "eKw9acJ3PvOV"
      },
      "source": [
        "## Exercício 4\n",
        "\n",
        "Faça a integração numérica das funções trigonométricas $\\sin(x)$ e $\\cos(x)$ num período $0 \\lt x \\leq 2\\pi$."
      ]
    },
    {
      "cell_type": "code",
      "metadata": {
        "id": "fMhHUlk0QGga"
      },
      "source": [
        ""
      ],
      "execution_count": null,
      "outputs": []
    },
    {
      "cell_type": "markdown",
      "metadata": {
        "id": "HXtB7kMkPvSd"
      },
      "source": [
        "## Exercício 5\n",
        "\n",
        "Faça a integração das funções hiperbólicas $\\sinh(x)$ e $\\cosh(x)$ no intervalo $0-10$."
      ]
    },
    {
      "cell_type": "code",
      "metadata": {
        "id": "qigaLUNAQG3Y"
      },
      "source": [
        ""
      ],
      "execution_count": null,
      "outputs": []
    }
  ]
}